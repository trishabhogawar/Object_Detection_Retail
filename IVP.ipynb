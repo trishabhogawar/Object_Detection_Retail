{
  "cells": [
    {
      "cell_type": "markdown",
      "metadata": {
        "id": "view-in-github",
        "colab_type": "text"
      },
      "source": [
        "<a href=\"https://colab.research.google.com/github/trishabhogawar/Object_Detection_Retail/blob/main/IVP.ipynb\" target=\"_parent\"><img src=\"https://colab.research.google.com/assets/colab-badge.svg\" alt=\"Open In Colab\"/></a>"
      ]
    },
    {
      "cell_type": "code",
      "execution_count": null,
      "metadata": {
        "colab": {
          "base_uri": "https://localhost:8080/"
        },
        "id": "H4nu5_urBqfS",
        "outputId": "50d3e948-045b-435c-c5e2-08bca83ccda5"
      },
      "outputs": [
        {
          "output_type": "stream",
          "name": "stdout",
          "text": [
            "\u001b[2K   \u001b[90m━━━━━━━━━━━━━━━━━━━━━━━━━━━━━━━━━━━━━━━━\u001b[0m \u001b[32m949.8/949.8 kB\u001b[0m \u001b[31m14.7 MB/s\u001b[0m eta \u001b[36m0:00:00\u001b[0m\n",
            "\u001b[2K   \u001b[90m━━━━━━━━━━━━━━━━━━━━━━━━━━━━━━━━━━━━━━━━\u001b[0m \u001b[32m363.4/363.4 MB\u001b[0m \u001b[31m4.6 MB/s\u001b[0m eta \u001b[36m0:00:00\u001b[0m\n",
            "\u001b[2K   \u001b[90m━━━━━━━━━━━━━━━━━━━━━━━━━━━━━━━━━━━━━━━━\u001b[0m \u001b[32m13.8/13.8 MB\u001b[0m \u001b[31m45.1 MB/s\u001b[0m eta \u001b[36m0:00:00\u001b[0m\n",
            "\u001b[2K   \u001b[90m━━━━━━━━━━━━━━━━━━━━━━━━━━━━━━━━━━━━━━━━\u001b[0m \u001b[32m24.6/24.6 MB\u001b[0m \u001b[31m38.5 MB/s\u001b[0m eta \u001b[36m0:00:00\u001b[0m\n",
            "\u001b[2K   \u001b[90m━━━━━━━━━━━━━━━━━━━━━━━━━━━━━━━━━━━━━━━━\u001b[0m \u001b[32m883.7/883.7 kB\u001b[0m \u001b[31m32.8 MB/s\u001b[0m eta \u001b[36m0:00:00\u001b[0m\n",
            "\u001b[2K   \u001b[90m━━━━━━━━━━━━━━━━━━━━━━━━━━━━━━━━━━━━━━━━\u001b[0m \u001b[32m664.8/664.8 MB\u001b[0m \u001b[31m2.6 MB/s\u001b[0m eta \u001b[36m0:00:00\u001b[0m\n",
            "\u001b[2K   \u001b[90m━━━━━━━━━━━━━━━━━━━━━━━━━━━━━━━━━━━━━━━━\u001b[0m \u001b[32m211.5/211.5 MB\u001b[0m \u001b[31m5.7 MB/s\u001b[0m eta \u001b[36m0:00:00\u001b[0m\n",
            "\u001b[2K   \u001b[90m━━━━━━━━━━━━━━━━━━━━━━━━━━━━━━━━━━━━━━━━\u001b[0m \u001b[32m56.3/56.3 MB\u001b[0m \u001b[31m11.4 MB/s\u001b[0m eta \u001b[36m0:00:00\u001b[0m\n",
            "\u001b[2K   \u001b[90m━━━━━━━━━━━━━━━━━━━━━━━━━━━━━━━━━━━━━━━━\u001b[0m \u001b[32m127.9/127.9 MB\u001b[0m \u001b[31m7.2 MB/s\u001b[0m eta \u001b[36m0:00:00\u001b[0m\n",
            "\u001b[2K   \u001b[90m━━━━━━━━━━━━━━━━━━━━━━━━━━━━━━━━━━━━━━━━\u001b[0m \u001b[32m207.5/207.5 MB\u001b[0m \u001b[31m5.7 MB/s\u001b[0m eta \u001b[36m0:00:00\u001b[0m\n",
            "\u001b[2K   \u001b[90m━━━━━━━━━━━━━━━━━━━━━━━━━━━━━━━━━━━━━━━━\u001b[0m \u001b[32m21.1/21.1 MB\u001b[0m \u001b[31m45.8 MB/s\u001b[0m eta \u001b[36m0:00:00\u001b[0m\n",
            "\u001b[?25h"
          ]
        }
      ],
      "source": [
        "# Install YOLOv8 and tqdm\n",
        "!pip install -q ultralytics kagglehub tqdm\n"
      ]
    },
    {
      "cell_type": "code",
      "execution_count": null,
      "metadata": {
        "id": "2sc4WSk3CEh-"
      },
      "outputs": [],
      "source": [
        "import kagglehub\n",
        "\n",
        "# Download dataset\n",
        "path = kagglehub.dataset_download(\"unidatapro/grocery-shelves\")\n",
        "print(\"Path to dataset files:\", path)"
      ]
    },
    {
      "cell_type": "code",
      "execution_count": null,
      "metadata": {
        "id": "mzC_nkqmICfC"
      },
      "outputs": [],
      "source": [
        "import os\n",
        "import xml.etree.ElementTree as ET\n",
        "\n",
        "xml_file = os.path.join(path, \"annotations.xml\")\n",
        "labels_dir = os.path.join(path, \"labels\")\n",
        "output_dir = os.path.join(path, \"yolo_labels\")\n",
        "os.makedirs(output_dir, exist_ok=True)\n",
        "\n",
        "tree = ET.parse(xml_file)\n",
        "root = tree.getroot()\n",
        "\n",
        "for image in root.findall('image'):\n",
        "    img_name = image.get('name').split('/')[-1].split('.')[0]\n",
        "    img_width = float(image.get('width'))\n",
        "    img_height = float(image.get('height'))\n",
        "\n",
        "    yolo_lines = []\n",
        "    for polyline in image.findall('polyline'):\n",
        "        points = polyline.get('points').split(';')\n",
        "        x_coords = [float(p.split(',')[0]) for p in points]\n",
        "        y_coords = [float(p.split(',')[1]) for p in points]\n",
        "\n",
        "        x_center = ((min(x_coords) + max(x_coords)) / 2) / img_width\n",
        "        y_center = ((min(y_coords) + max(y_coords)) / 2) / img_height\n",
        "        width = (max(x_coords) - min(x_coords)) / img_width\n",
        "        height = (max(y_coords) - min(y_coords)) / img_height\n",
        "\n",
        "        yolo_line = f\"0 {x_center:.6f} {y_center:.6f} {width:.6f} {height:.6f}\"\n",
        "        yolo_lines.append(yolo_line)\n",
        "\n",
        "    with open(os.path.join(output_dir, f\"{img_name}.txt\"), 'w') as f:\n",
        "        f.write('\\n'.join(yolo_lines))\n",
        "\n",
        "print(\"✅ Conversion to YOLO format completed.\")\n",
        "\n"
      ]
    },
    {
      "cell_type": "code",
      "execution_count": null,
      "metadata": {
        "id": "6pUt_n5JILj9"
      },
      "outputs": [],
      "source": [
        "import shutil\n",
        "import random\n",
        "\n",
        "images_path = os.path.join(path, 'img')\n",
        "dataset_path = os.path.join(path, 'dataset')\n",
        "\n",
        "for split in ['train', 'val']:\n",
        "    os.makedirs(os.path.join(dataset_path, 'images', split), exist_ok=True)\n",
        "    os.makedirs(os.path.join(dataset_path, 'labels', split), exist_ok=True)\n",
        "\n",
        "all_images = [f for f in os.listdir(images_path) if f.endswith(('.png', '.jpg', '.jpeg'))]\n",
        "random.shuffle(all_images)\n",
        "split_index = int(len(all_images) * 0.8)\n",
        "train_images = all_images[:split_index]\n",
        "val_images = all_images[split_index:]\n",
        "\n",
        "def move_files(image_list, split):\n",
        "    for img_file in image_list:\n",
        "        label_file = img_file.rsplit('.', 1)[0] + '.txt'\n",
        "        shutil.copy2(os.path.join(images_path, img_file), os.path.join(dataset_path, 'images', split))\n",
        "        if os.path.exists(os.path.join(output_dir, label_file)):\n",
        "            shutil.copy2(os.path.join(output_dir, label_file), os.path.join(dataset_path, 'labels', split))\n",
        "\n",
        "move_files(train_images, 'train')\n",
        "move_files(val_images, 'val')\n",
        "print(\"✅ Dataset organized.\")\n",
        "\n"
      ]
    },
    {
      "cell_type": "code",
      "execution_count": null,
      "metadata": {
        "id": "wwpxQOrMIXjx"
      },
      "outputs": [],
      "source": [
        "data_yaml = f\"\"\"\n",
        "path: {dataset_path}\n",
        "train: images/train\n",
        "val: images/val\n",
        "names:\n",
        "  0: box\n",
        "\"\"\"\n",
        "\n",
        "with open(os.path.join(path, 'dataset.yaml'), 'w') as f:\n",
        "    f.write(data_yaml)\n",
        "\n",
        "print(\"✅ YOLOv8 configuration file created.\")"
      ]
    },
    {
      "cell_type": "code",
      "execution_count": null,
      "metadata": {
        "id": "kt5h_nu-IfDD"
      },
      "outputs": [],
      "source": [
        "from ultralytics import YOLO\n",
        "import os\n",
        "os.environ[\"WANDB_MODE\"] = \"disabled\"\n",
        "\n",
        "model = YOLO(\"yolov8n.pt\")  # You can also try 'yolov8s.pt' for better accuracy\n",
        "results = model.train(\n",
        "    data=os.path.join(path, 'dataset.yaml'),\n",
        "    epochs=50,\n",
        "    batch=16,\n",
        "    imgsz=640,\n",
        "    workers=2,\n",
        "    project='grocery-shelves',\n",
        "    name='yolov8n-results',\n",
        "    exist_ok=True\n",
        ")"
      ]
    },
    {
      "cell_type": "code",
      "execution_count": null,
      "metadata": {
        "id": "mMYdRHBvIjJO"
      },
      "outputs": [],
      "source": [
        "metrics = model.val()\n",
        "print(metrics)"
      ]
    },
    {
      "cell_type": "code",
      "execution_count": null,
      "metadata": {
        "id": "7KpFaGFKItX-"
      },
      "outputs": [],
      "source": [
        "results = model.predict(\n",
        "    source='/root/.cache/kagglehub/datasets/unidatapro/grocery-shelves/versions/1/img/',\n",
        "    save=True,\n",
        "    project='grocery-shelves',\n",
        "    name='yolov8n-results',\n",
        "    exist_ok=True\n",
        ")\n"
      ]
    }
  ],
  "metadata": {
    "colab": {
      "provenance": [],
      "include_colab_link": true
    },
    "kernelspec": {
      "display_name": "Python 3",
      "name": "python3"
    },
    "language_info": {
      "name": "python"
    }
  },
  "nbformat": 4,
  "nbformat_minor": 0
}